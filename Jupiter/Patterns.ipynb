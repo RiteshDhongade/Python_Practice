{
 "cells": [
  {
   "cell_type": "code",
   "execution_count": 19,
   "id": "0ce8e8a8",
   "metadata": {},
   "outputs": [
    {
     "name": "stdout",
     "output_type": "stream",
     "text": [
      "      * \r\n",
      "     * * \r\n",
      "    * * * \r\n",
      "   * * * * \r\n",
      "  * * * * * \r\n",
      " * * * * * * \r\n",
      "* * * * * * * \r\n"
     ]
    }
   ],
   "source": [
    "n=7\n",
    "for i in range(0,n):\n",
    "    for k in range(n-i-1):\n",
    "        print(\" \",end='')\n",
    "    for j in range(0,i+1):\n",
    "        print(\"* \",end='')\n",
    "    print('\\r')    "
   ]
  },
  {
   "cell_type": "code",
   "execution_count": 31,
   "id": "1486fa5d",
   "metadata": {},
   "outputs": [
    {
     "name": "stdout",
     "output_type": "stream",
     "text": [
      "11\r\n",
      "222\r\n",
      "3333\r\n",
      "44444\r\n",
      "555555\r\n"
     ]
    }
   ],
   "source": [
    "n=6\n",
    "for i in range(1,n):\n",
    "    \n",
    "    for j in range(0,i+1):\n",
    "        print(i,sep='\\n',end='')\n",
    "    print('\\r') "
   ]
  },
  {
   "cell_type": "code",
   "execution_count": 33,
   "id": "014a26a8",
   "metadata": {},
   "outputs": [
    {
     "name": "stdout",
     "output_type": "stream",
     "text": [
      " * * * * * * \r\n",
      "  * * * * * \r\n",
      "   * * * * \r\n",
      "    * * * \r\n",
      "     * * \r\n",
      "      * \r\n",
      "       \r\n"
     ]
    }
   ],
   "source": [
    "n=7\n",
    "for i in range(0,n):\n",
    "    for j in range(0,i+1):\n",
    "        print(\" \",end='')\n",
    "    for k in range(n-i-1):\n",
    "        print(\"* \",end='')\n",
    "    \n",
    "    print('\\r')   "
   ]
  },
  {
   "cell_type": "code",
   "execution_count": 36,
   "id": "aaef2a5a",
   "metadata": {},
   "outputs": [
    {
     "name": "stdout",
     "output_type": "stream",
     "text": [
      "      * \r\n",
      "     * * \r\n",
      "    * * * \r\n",
      "   * * * * \r\n",
      "  * * * * * \r\n",
      " * * * * * * \r\n",
      "* * * * * * * \r\n",
      " * * * * * * \r\n",
      "  * * * * * \r\n",
      "   * * * * \r\n",
      "    * * * \r\n",
      "     * * \r\n",
      "      * \r\n",
      "       \r\n"
     ]
    }
   ],
   "source": [
    "n=7\n",
    "for i in range(0,n):\n",
    "    for k in range(n-i-1):\n",
    "        print(\" \",end='')\n",
    "    for j in range(0,i+1):\n",
    "        print(\"* \",end='')\n",
    "    print('\\r')  \n",
    "for i in range(0,n):    \n",
    "    for m in range(0,i+1):\n",
    "        print(\" \",end='')\n",
    "    for l in range(n-i-1):\n",
    "        print(\"* \",end='')\n",
    "    \n",
    "    print('\\r') "
   ]
  },
  {
   "cell_type": "code",
   "execution_count": 53,
   "id": "b0d23a91",
   "metadata": {},
   "outputs": [
    {
     "name": "stdout",
     "output_type": "stream",
     "text": [
      "1\r\n",
      "22\r\n",
      "333\r\n",
      "4444\r\n",
      "55555\r\n",
      "666666\r\n"
     ]
    }
   ],
   "source": [
    "n=6\n",
    "for i in range(1,n+1):\n",
    "    \n",
    "    for j in range(i):\n",
    "        print(i,sep='\\n',end='')\n",
    "        \n",
    "    print('\\r') "
   ]
  },
  {
   "cell_type": "code",
   "execution_count": null,
   "id": "212a02c0",
   "metadata": {},
   "outputs": [],
   "source": []
  }
 ],
 "metadata": {
  "kernelspec": {
   "display_name": "Python 3 (ipykernel)",
   "language": "python",
   "name": "python3"
  },
  "language_info": {
   "codemirror_mode": {
    "name": "ipython",
    "version": 3
   },
   "file_extension": ".py",
   "mimetype": "text/x-python",
   "name": "python",
   "nbconvert_exporter": "python",
   "pygments_lexer": "ipython3",
   "version": "3.9.13"
  }
 },
 "nbformat": 4,
 "nbformat_minor": 5
}
